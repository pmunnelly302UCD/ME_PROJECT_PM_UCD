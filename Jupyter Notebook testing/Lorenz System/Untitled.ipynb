{
 "cells": [
  {
   "cell_type": "code",
   "execution_count": 3,
   "id": "c95ef8d7",
   "metadata": {},
   "outputs": [
    {
     "data": {
      "application/vnd.jupyter.widget-view+json": {
       "model_id": "aaab0a478c13464ba55e3d8b5444df88",
       "version_major": 2,
       "version_minor": 0
      },
      "text/plain": [
       "ViewInteractiveWidget(height=768, layout=Layout(height='auto', width='100%'), width=1024)"
      ]
     },
     "metadata": {},
     "output_type": "display_data"
    },
    {
     "ename": "AttributeError",
     "evalue": "\nThis plotter has not yet been setup and rendered with ``show()``.\nConsider setting ``off_screen=True`` for off screen rendering.\n",
     "output_type": "error",
     "traceback": [
      "\u001b[1;31m---------------------------------------------------------------------------\u001b[0m",
      "\u001b[1;31mAttributeError\u001b[0m                            Traceback (most recent call last)",
      "Input \u001b[1;32mIn [3]\u001b[0m, in \u001b[0;36m<cell line: 76>\u001b[1;34m()\u001b[0m\n\u001b[0;32m     74\u001b[0m \u001b[38;5;66;03m# Add to main figure:\u001b[39;00m\n\u001b[0;32m     75\u001b[0m fig\u001b[38;5;241m.\u001b[39madd_subplot(\u001b[38;5;241m111\u001b[39m)\n\u001b[1;32m---> 76\u001b[0m plt\u001b[38;5;241m.\u001b[39mimshow(\u001b[43mplotter1\u001b[49m\u001b[38;5;241;43m.\u001b[39;49m\u001b[43mimage\u001b[49m)\n\u001b[0;32m     77\u001b[0m plt\u001b[38;5;241m.\u001b[39mtitle(\u001b[38;5;124m'\u001b[39m\u001b[38;5;124mPlane of x VS y VS z\u001b[39m\u001b[38;5;124m'\u001b[39m)\n\u001b[0;32m     78\u001b[0m plt\u001b[38;5;241m.\u001b[39maxis(\u001b[38;5;124m'\u001b[39m\u001b[38;5;124moff\u001b[39m\u001b[38;5;124m'\u001b[39m)\n",
      "File \u001b[1;32m~\\anaconda3\\lib\\site-packages\\pyvista\\plotting\\plotting.py:1207\u001b[0m, in \u001b[0;36mBasePlotter.image\u001b[1;34m(self)\u001b[0m\n\u001b[0;32m   1204\u001b[0m \u001b[38;5;28;01mif\u001b[39;00m \u001b[38;5;129;01mnot\u001b[39;00m \u001b[38;5;28mhasattr\u001b[39m(\u001b[38;5;28mself\u001b[39m, \u001b[38;5;124m'\u001b[39m\u001b[38;5;124mren_win\u001b[39m\u001b[38;5;124m'\u001b[39m) \u001b[38;5;129;01mand\u001b[39;00m \u001b[38;5;28mself\u001b[39m\u001b[38;5;241m.\u001b[39mlast_image \u001b[38;5;129;01mis\u001b[39;00m \u001b[38;5;129;01mnot\u001b[39;00m \u001b[38;5;28;01mNone\u001b[39;00m:\n\u001b[0;32m   1205\u001b[0m     \u001b[38;5;28;01mreturn\u001b[39;00m \u001b[38;5;28mself\u001b[39m\u001b[38;5;241m.\u001b[39mlast_image\n\u001b[1;32m-> 1207\u001b[0m \u001b[38;5;28;43mself\u001b[39;49m\u001b[38;5;241;43m.\u001b[39;49m\u001b[43m_check_rendered\u001b[49m\u001b[43m(\u001b[49m\u001b[43m)\u001b[49m\n\u001b[0;32m   1208\u001b[0m \u001b[38;5;28mself\u001b[39m\u001b[38;5;241m.\u001b[39m_check_has_ren_win()\n\u001b[0;32m   1210\u001b[0m data \u001b[38;5;241m=\u001b[39m image_from_window(\u001b[38;5;28mself\u001b[39m\u001b[38;5;241m.\u001b[39mren_win)\n",
      "File \u001b[1;32m~\\anaconda3\\lib\\site-packages\\pyvista\\plotting\\plotting.py:1184\u001b[0m, in \u001b[0;36mBasePlotter._check_rendered\u001b[1;34m(self)\u001b[0m\n\u001b[0;32m   1182\u001b[0m \u001b[38;5;124;03m\"\"\"Check if the render window has been shown and raise an exception if not.\"\"\"\u001b[39;00m\n\u001b[0;32m   1183\u001b[0m \u001b[38;5;28;01mif\u001b[39;00m \u001b[38;5;129;01mnot\u001b[39;00m \u001b[38;5;28mself\u001b[39m\u001b[38;5;241m.\u001b[39m_rendered:\n\u001b[1;32m-> 1184\u001b[0m     \u001b[38;5;28;01mraise\u001b[39;00m \u001b[38;5;167;01mAttributeError\u001b[39;00m(\u001b[38;5;124m'\u001b[39m\u001b[38;5;130;01m\\n\u001b[39;00m\u001b[38;5;124mThis plotter has not yet been setup and rendered \u001b[39m\u001b[38;5;124m'\u001b[39m\n\u001b[0;32m   1185\u001b[0m                          \u001b[38;5;124m'\u001b[39m\u001b[38;5;124mwith ``show()``.\u001b[39m\u001b[38;5;130;01m\\n\u001b[39;00m\u001b[38;5;124m'\u001b[39m\n\u001b[0;32m   1186\u001b[0m                          \u001b[38;5;124m'\u001b[39m\u001b[38;5;124mConsider setting ``off_screen=True`` \u001b[39m\u001b[38;5;124m'\u001b[39m\n\u001b[0;32m   1187\u001b[0m                          \u001b[38;5;124m'\u001b[39m\u001b[38;5;124mfor off screen rendering.\u001b[39m\u001b[38;5;130;01m\\n\u001b[39;00m\u001b[38;5;124m'\u001b[39m)\n",
      "\u001b[1;31mAttributeError\u001b[0m: \nThis plotter has not yet been setup and rendered with ``show()``.\nConsider setting ``off_screen=True`` for off screen rendering.\n"
     ]
    },
    {
     "data": {
      "image/png": "[encoded data removed]",
      "text/plain": [
       "<Figure size 792x720 with 1 Axes>"
      ]
     },
     "metadata": {
      "needs_background": "light"
     },
     "output_type": "display_data"
    }
   ],
   "source": [
    "# -*- coding: utf-8 -*-\n",
    "\"\"\"\n",
    "\n",
    "Created on 24/03/22\n",
    "\n",
    "Modelling using PyVista\n",
    "\n",
    "Author: Patrick Munnelly\n",
    "\n",
    "\"\"\"\n",
    "\n",
    "# Import packages:\n",
    "import matplotlib.pyplot as plt\n",
    "import numpy as np\n",
    "from scipy.integrate import solve_ivp\n",
    "import pyvista as pv\n",
    "\n",
    "\n",
    "################################################################\n",
    "# Define time data and initial conditions:\n",
    "dt = 0.01\n",
    "t_test = np.arange(0, 10, dt)  # Time range to integrate over\n",
    "X0 = [-8, 8, 27]  # Initial Conditions\n",
    "\n",
    "################################################################\n",
    "# Define model system paramaters:\n",
    "sigma = 7.2\n",
    "rho = 25\n",
    "beta = 8/3\n",
    "\n",
    "################################################################\n",
    "# Define Lorenz system:\n",
    "\n",
    "def lorenz(t, x):\n",
    "    return [\n",
    "        sigma*(x[1] - x[0]),\n",
    "        x[0]*(rho - x[2]) - x[1],\n",
    "        x[0]*x[1] - beta*x[2]\n",
    "    ]\n",
    "    \n",
    "################################################################\n",
    "# Solve our equations using solve_ivp:\n",
    "sol = solve_ivp(lorenz, (t_test[0], t_test[-1]), X0, method='BDF', t_eval=t_test) # Integrate\n",
    "x_test = np.transpose(sol.y)\n",
    "\n",
    "###########################################################################################################\n",
    "# Create Poincare section of each of our 3D plots\n",
    "###########################################################################################################\n",
    "# Set up main figure:\n",
    "fig = plt.figure(figsize= (11, 10))\n",
    "\n",
    "################################################################\n",
    "# 1st plot (x,y,z)\n",
    "\n",
    "# Fit a spline to connect our data points and then create a 3D mesh:\n",
    "spline1 = pv.Spline(x_test[0::20,[0,1,2]],len(x_test))\n",
    "mesh1 = pv.PolyData(x_test[:,[0,1,2]], lines=spline1.lines)\n",
    "#mesh1.plot(render_lines_as_tubes=True, line_width=5)\n",
    "# We define a plane with a normal and an origin:\n",
    "slices1 = mesh1.slice(normal= 'y', origin=(0,0,20))\n",
    "\n",
    "# Create a plot:\n",
    "plotter1 = pv.Plotter(off_screen=True)\n",
    "\n",
    "# Add our slice to the plot:\n",
    "plotter1.add_mesh(slices1,color='red')\n",
    "\n",
    "# Set visualisation paramaters:\n",
    "plotter1.set_background('white')\n",
    "plotter1.camera_position='yx'\n",
    "plotter1.show_grid(color='black', xlabel='x', ylabel='y', zlabel='z')\n",
    "plotter1.show(screenshot='fig1.png')\n",
    "\n",
    "# Add to main figure:\n",
    "fig.add_subplot(111)\n",
    "plt.imshow(plotter1.image)\n",
    "plt.title('Plane of x VS y VS z')\n",
    "plt.axis('off')\n"
   ]
  },
  {
   "cell_type": "code",
   "execution_count": null,
   "id": "375bba9e",
   "metadata": {},
   "outputs": [],
   "source": []
  }
 ],
 "metadata": {
  "kernelspec": {
   "display_name": "Python 3 (ipykernel)",
   "language": "python",
   "name": "python3"
  },
  "language_info": {
   "codemirror_mode": {
    "name": "ipython",
    "version": 3
   },
   "file_extension": ".py",
   "mimetype": "text/x-python",
   "name": "python",
   "nbconvert_exporter": "python",
   "pygments_lexer": "ipython3",
   "version": "3.8.8"
  }
 },
 "nbformat": 4,
 "nbformat_minor": 5
}
