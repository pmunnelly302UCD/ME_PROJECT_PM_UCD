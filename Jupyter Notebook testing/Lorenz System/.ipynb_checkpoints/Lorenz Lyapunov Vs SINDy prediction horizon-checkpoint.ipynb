{
 "cells": [
  {
   "cell_type": "code",
   "execution_count": 1,
   "id": "837001f7",
   "metadata": {},
   "outputs": [],
   "source": [
    "\"\"\"\n",
    "Created on 25/02/22\n",
    "\n",
    "Compare Lyapunov exponant of Lorenz system VS SINDy prediction horizon.\n",
    "\n",
    "We will complete a paramater sweep to collect a wide range of Lyapunov exponants.\n",
    "For each of these paramater combinations, we will also construct a SINDy model \n",
    "based on some fixed amount of training data. We will then simulate the true model\n",
    "and the SINDy model and note the time it diverges by a fixed amount. We will then\n",
    "compare the Lyapunov exponant and the divergance time for each system.\n",
    "\n",
    "\n",
    "Author: Patrick Munnelly\n",
    "\n",
    "\"\"\"\n",
    "import matplotlib.pyplot as plt\n",
    "import numpy as np\n",
    "from numpy import sin,cos\n",
    "from scipy.integrate import solve_ivp\n",
    "import seaborn as sns\n",
    "import pysindy as ps"
   ]
  },
  {
   "cell_type": "code",
   "execution_count": 2,
   "id": "8c76e148",
   "metadata": {},
   "outputs": [],
   "source": [
    "##############################################################################\n",
    "# Define initial condition and paramater sweep range values:\n",
    "    \n",
    "X0 = [8,7,15]\n",
    "\n",
    "s_omega = np.arange(6, 8, 1)\n",
    "s_Lambda = np.arange(22, 27, 0.5)\n",
    "\n",
    "sigma = 10\n",
    "rho = 28\n",
    "beta = 8/3"
   ]
  },
  {
   "cell_type": "code",
   "execution_count": 3,
   "id": "cd225c42",
   "metadata": {},
   "outputs": [],
   "source": [
    "##############################################################################\n",
    "# Set SINDy training and test paramaters:\n",
    "\n",
    "dt = 0.01 # Set timestep for integration\n",
    "t_train = np.arange(0, 10, dt)  # Time range to integrate over\n",
    "x0_train = [-8, 8, 27]  # Initial Conditions\n",
    "\n",
    "t_test = np.arange(0, 50, dt)  # Longer time range\n",
    "x0_test = X0 #np.array([8, 7, 15])  # New initial conditions\n",
    "\n",
    "diverge_time = np.full((s_omega.size, s_Lambda.size), t_test[-1]) "
   ]
  },
  {
   "cell_type": "code",
   "execution_count": 4,
   "id": "5aa15be6",
   "metadata": {},
   "outputs": [],
   "source": [
    "##############################################################################\n",
    "# Define Lorenz system:\n",
    "\n",
    "def lorenz(t, x):\n",
    "    return [\n",
    "        sigma*(x[1] - x[0]),\n",
    "        x[0]*(rho - x[2]) - x[1],\n",
    "        x[0]*x[1] - beta*x[2]\n",
    "    ]\n"
   ]
  },
  {
   "cell_type": "code",
   "execution_count": 5,
   "id": "57633174",
   "metadata": {},
   "outputs": [],
   "source": [
    "##############################################################################\n",
    "# Define 2D array to hold maximum Lyapunov exponants:\n",
    "\n",
    "MLE = np.zeros((s_omega.size, s_Lambda.size)) "
   ]
  },
  {
   "cell_type": "code",
   "execution_count": 6,
   "id": "8f2d7775",
   "metadata": {},
   "outputs": [],
   "source": [
    "##############################################################################\n",
    "# Set Lyapunov algorithm paramaters:\n",
    "\n",
    "epsilon = 0.01  # Pertibation Amplitude\n",
    "T = 1  # Integral time interval\n",
    "M = 100 # Integral iterations\n",
    "N = 3 # Number of state variables in our system"
   ]
  },
  {
   "cell_type": "code",
   "execution_count": 7,
   "id": "cb318b6e",
   "metadata": {},
   "outputs": [
    {
     "name": "stdout",
     "output_type": "stream",
     "text": [
      "0\n",
      "\t 0\n",
      "\t 1\n",
      "\t 2\n",
      "\t 3\n",
      "\t 4\n",
      "\t 5\n",
      "\t 6\n",
      "\t 7\n",
      "\t 8\n",
      "1\n",
      "\t 0\n",
      "\t 1\n",
      "\t 2\n",
      "\t 3\n",
      "\t 4\n",
      "\t 5\n",
      "\t 6\n",
      "\t 7\n",
      "\t 8\n"
     ]
    }
   ],
   "source": [
    "##############################################################################\n",
    "# Begin paramater sweep:\n",
    "\n",
    "for i_omega in range(s_omega.size):\n",
    "    \n",
    "    print (i_omega) # Monitor algorthim progession\n",
    "    sigma = s_omega[i_omega]\n",
    "\n",
    "    for i_Lambda in range(s_Lambda.size):\n",
    "        \n",
    "        print ('\\t', i_Lambda) # Monitor algorthim progession\n",
    "        rho = s_Lambda[i_Lambda]\n",
    "    \n",
    "        # Now run our Lyapunov algorithm:\n",
    "\n",
    "        # Reference vector:\n",
    "        x = X0\n",
    "\n",
    "        # Perturbed vector:\n",
    "        x_tilda = np.zeros((N,N))\n",
    "\n",
    "        # Perturned vector relative to reference vector\n",
    "        x_tilda_r = np.zeros((N,N))\n",
    "\n",
    "        # Create initial Orthonormalised perturbed vector:\n",
    "        p = ([[epsilon, 0, 0],\n",
    "              [0, epsilon, 0],\n",
    "              [0, 0, epsilon]])\n",
    "\n",
    "        x_tilda_0 = [np.add(x,p[0]),\n",
    "                     np.add(x,p[1]),\n",
    "                     np.add(x,p[2])]\n",
    "\n",
    "\n",
    "        x_tilda_0_r = np.zeros((N,N))\n",
    "\n",
    "        S = np.zeros(N)\n",
    "\n",
    "        ##############################################################################\n",
    "        # Begin Lyapunov calculation:\n",
    "      #  try:    \n",
    "        for i in range(M):\n",
    "            # Integrate reference vector over time T:\n",
    "            sol = solve_ivp(lorenz, (i*T, (i+1)*T), x, method='BDF', t_eval=np.arange(i*T,(i+1)*T,dt))\n",
    "            x = (np.transpose(sol.y))[-1]     \n",
    "            \n",
    "            for j in range(N):\n",
    "                # Integrate each perturbation vector over time T:\n",
    "                # x_tilda(j) = final value of integral from (x_tilda_0(j)) over T\n",
    "                sol = solve_ivp(lorenz, (i*T, (i+1)*T), x_tilda_0[j], method='BDF', t_eval=np.arange(i*T,(i+1)*T,dt))\n",
    "                x_tilda[j] = (np.transpose(sol.y))[-1]\n",
    "                \n",
    "                # Find the relative vector between each perturbation vector and the refernce vector:\n",
    "                x_tilda_r[j] = x_tilda[j] - x\n",
    "                    \n",
    "            # Complete a gram schmidt orthogonalization process on relative perturbed vectors:  \n",
    "            for j in range(N):\n",
    "                for k in range(j):\n",
    "                    x_tilda_r[j] = x_tilda_r[j] - (np.dot(x_tilda_r[k], x_tilda_r[j])/np.dot(x_tilda_r[k], x_tilda_r[k])) * x_tilda_r[k]\n",
    "                    \n",
    "                # Update the accumulated sums with the new relative vector:\n",
    "                S[j] = S[j] + np.log(np.linalg.norm(x_tilda_r[j]/epsilon))\n",
    "                \n",
    "                x_tilda_0_r[j] = x_tilda_r[j] * epsilon / np.linalg.norm(x_tilda_r[j])\n",
    "                \n",
    "                # Compute the absolute vectors for the next iteration:\n",
    "                x_tilda_0[j] = x + x_tilda_0_r[j]\n",
    "                    \n",
    "            ##############################################################################\n",
    "            # Calculate final Lyapunov exponant values:\n",
    "     \n",
    "            L_exp = S/(M*T)\n",
    "            \n",
    "            MLE[i_omega,i_Lambda] = np.max(L_exp)\n",
    "            \n",
    "            ##############################################################################\n",
    "            # Create SINDy model and calculate divergance time with true system\n",
    "            \n",
    "            # First create SINDy model\n",
    "            sol = solve_ivp(lorenz, (t_train[0], t_train[-1]), x0_train, t_eval=t_train)  # Integrate to produce x(t),y(t),z(t)\n",
    "            x_train = np.transpose(sol.y)  \n",
    "            model = ps.SINDy()\n",
    "            model.fit(x_train, t=dt)\n",
    "            \n",
    "            # Create test trajectory from real system:\n",
    "            sol = solve_ivp(lorenz, (t_test[0], t_test[-1]), x0_test, t_eval=t_test) # Integrate to produce x(t),y(t),z(t)\n",
    "            x_test = np.transpose(sol.y) \n",
    "            \n",
    "            # Create SINDy predicted trajectory:\n",
    "            x_test_sim = model.simulate(x0_test, t_test)\n",
    "            \n",
    "            for i in range(t_test.size):\n",
    "                diff = np.linalg.norm(x_test[i]-x_test_sim[i])\n",
    "                if(diff > 0.25*np.linalg.norm(x_test[i])):\n",
    "                    diverge_time[i_omega,i_Lambda] = t_test[i]\n",
    "                    break\n",
    "       # except:\n",
    "        #    MLE[i_omega,i_Lambda] = 0"
   ]
  },
  {
   "cell_type": "code",
   "execution_count": 9,
   "id": "85bc4968",
   "metadata": {},
   "outputs": [
    {
     "data": {
      "image/png": "[encoded data removed]",
      "text/plain": [
       "<Figure size 792x648 with 2 Axes>"
      ]
     },
     "metadata": {
      "needs_background": "light"
     },
     "output_type": "display_data"
    },
    {
     "data": {
      "image/png": "[encoded data removed]",
      "text/plain": [
       "<Figure size 792x648 with 2 Axes>"
      ]
     },
     "metadata": {
      "needs_background": "light"
     },
     "output_type": "display_data"
    }
   ],
   "source": [
    "import matplotlib.pyplot as plt\n",
    "\n",
    "fig, ax = plt.subplots(figsize=(11, 9))\n",
    "ax = sns.heatmap(MLE, linewidth=0.5, xticklabels=np.around(s_Lambda, decimals=1), \n",
    "                 yticklabels=np.around(s_omega, decimals=1))\n",
    "ax.set_xlabel('rho')\n",
    "ax.set_ylabel('sigma')\n",
    "ax.set_title('MLE')\n",
    "plt.show()\n",
    "\n",
    "fig, ax = plt.subplots(figsize=(11, 9))\n",
    "ax = sns.heatmap(diverge_time, linewidth=0.5, xticklabels=np.around(s_Lambda, decimals=1), \n",
    "                 yticklabels=np.around(s_omega, decimals=1))\n",
    "ax.set_xlabel('rho')\n",
    "ax.set_ylabel('sigma')\n",
    "ax.set_title('Divergance time')\n",
    "plt.show()"
   ]
  },
  {
   "cell_type": "code",
   "execution_count": null,
   "id": "f28e126f",
   "metadata": {},
   "outputs": [],
   "source": [
    "MLE_sorted = np.zeros(s_omega.size*s_Lambda.size)\n",
    "diverge_time_sorted = MLE_sorted = np.zeros(s_omega.size*s_Lambda.size)\n",
    "\n",
    "for i in range(s_omega.size):\n",
    "    for j in range(s_Lambda.size):\n",
    "        "
   ]
  }
 ],
 "metadata": {
  "kernelspec": {
   "display_name": "Python 3 (ipykernel)",
   "language": "python",
   "name": "python3"
  },
  "language_info": {
   "codemirror_mode": {
    "name": "ipython",
    "version": 3
   },
   "file_extension": ".py",
   "mimetype": "text/x-python",
   "name": "python",
   "nbconvert_exporter": "python",
   "pygments_lexer": "ipython3",
   "version": "3.8.8"
  }
 },
 "nbformat": 4,
 "nbformat_minor": 5
}
