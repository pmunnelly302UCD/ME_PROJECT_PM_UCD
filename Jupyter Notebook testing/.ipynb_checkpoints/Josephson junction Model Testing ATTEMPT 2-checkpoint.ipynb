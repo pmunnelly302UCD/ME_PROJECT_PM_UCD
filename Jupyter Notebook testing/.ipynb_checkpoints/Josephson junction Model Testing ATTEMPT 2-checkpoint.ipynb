{
 "cells": [
  {
   "cell_type": "markdown",
   "id": "2827dfc6",
   "metadata": {},
   "source": [
    "## Example of Josephson Junction Model from Dissertation \"Chaos in Electronics\" - Michael Antonie Van Wyk"
   ]
  },
  {
   "cell_type": "code",
   "execution_count": 2,
   "id": "1f987a7d",
   "metadata": {},
   "outputs": [],
   "source": [
    "import matplotlib.pyplot as plt\n",
    "from mpl_toolkits.mplot3d import Axes3D\n",
    "import numpy as np\n",
    "from scipy.integrate import odeint\n",
    "from sklearn.linear_model import Lasso\n",
    "import pysindy as ps"
   ]
  },
  {
   "cell_type": "code",
   "execution_count": 3,
   "id": "27099390",
   "metadata": {},
   "outputs": [],
   "source": [
    "# Seed the random number generators for reproducibility\n",
    "np.random.seed(10)"
   ]
  },
  {
   "cell_type": "markdown",
   "id": "cbd5682c",
   "metadata": {},
   "source": [
    "### Define constants:"
   ]
  },
  {
   "cell_type": "code",
   "execution_count": null,
   "id": "23501945",
   "metadata": {},
   "outputs": [],
   "source": [
    "e = 1.60217662E-19  # Electron charge (C)\n",
    "h = 6.62607004E-34  # Plancks constant (m^2*kg/s)"
   ]
  },
  {
   "cell_type": "markdown",
   "id": "357609c0",
   "metadata": {},
   "source": [
    "### Define paramaters:"
   ]
  },
  {
   "cell_type": "code",
   "execution_count": null,
   "id": "170530c5",
   "metadata": {},
   "outputs": [],
   "source": [
    "R = 1  # Linear resistor (junction resistance)\n",
    "C = 1  # Linear capacitor (junction capacitance)\n",
    "Io = 1  # Threshold current associated with the tunneling current\n",
    "\n",
    "IDC = 1  # DC componant of current source\n",
    "IAC = 1  # AC amplitude of current source\n",
    "\n"
   ]
  },
  {
   "cell_type": "code",
   "execution_count": null,
   "id": "b5ffdba0",
   "metadata": {},
   "outputs": [],
   "source": []
  },
  {
   "cell_type": "code",
   "execution_count": null,
   "id": "b41cce64",
   "metadata": {},
   "outputs": [],
   "source": []
  }
 ],
 "metadata": {
  "kernelspec": {
   "display_name": "Python 3 (ipykernel)",
   "language": "python",
   "name": "python3"
  },
  "language_info": {
   "codemirror_mode": {
    "name": "ipython",
    "version": 3
   },
   "file_extension": ".py",
   "mimetype": "text/x-python",
   "name": "python",
   "nbconvert_exporter": "python",
   "pygments_lexer": "ipython3",
   "version": "3.8.8"
  }
 },
 "nbformat": 4,
 "nbformat_minor": 5
}
