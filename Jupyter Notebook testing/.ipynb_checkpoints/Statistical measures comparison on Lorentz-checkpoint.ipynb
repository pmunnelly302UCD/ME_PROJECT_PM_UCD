{
 "cells": [
  {
   "cell_type": "markdown",
   "id": "9ee89aa0",
   "metadata": {},
   "source": [
    "# Lorentz attractor Model"
   ]
  },
  {
   "cell_type": "code",
   "execution_count": 1,
   "id": "7db51efd",
   "metadata": {},
   "outputs": [],
   "source": [
    "import matplotlib.pyplot as plt\n",
    "from mpl_toolkits.mplot3d import Axes3D\n",
    "import numpy as np\n",
    "from scipy.integrate import solve_ivp\n",
    "from sklearn.linear_model import Lasso\n",
    "import pysindy as ps"
   ]
  },
  {
   "cell_type": "markdown",
   "id": "4a25ae04",
   "metadata": {},
   "source": [
    "### Define Lorentz system to produce training data:"
   ]
  },
  {
   "cell_type": "markdown",
   "id": "8ab4e072",
   "metadata": {},
   "source": [
    "Define system constants:"
   ]
  },
  {
   "cell_type": "code",
   "execution_count": 2,
   "id": "af6281fe",
   "metadata": {},
   "outputs": [],
   "source": [
    "sigma = 10\n",
    "rho = 28\n",
    "beta = 8/3"
   ]
  },
  {
   "cell_type": "markdown",
   "id": "b975ec06",
   "metadata": {},
   "source": [
    "Define system DEs as function:"
   ]
  },
  {
   "cell_type": "code",
   "execution_count": 3,
   "id": "3d25e538",
   "metadata": {},
   "outputs": [],
   "source": [
    "def lorenz(t, x):\n",
    "    return [\n",
    "        sigma*(x[1] - x[0]),\n",
    "        x[0]*(rho - x[2]) - x[1],\n",
    "        x[0]*x[1] - beta*x[2]\n",
    "    ]"
   ]
  },
  {
   "cell_type": "markdown",
   "id": "23d44fbb",
   "metadata": {},
   "source": [
    "### Create training data (2 Seperate Trajectories)"
   ]
  },
  {
   "cell_type": "code",
   "execution_count": 5,
   "id": "5bb6f190",
   "metadata": {},
   "outputs": [
    {
     "name": "stdout",
     "output_type": "stream",
     "text": [
      "[[-1.          1.         -1.        ]\n",
      " [-0.98024624  0.97030083 -0.99831155]\n",
      " [-0.96097834  0.94119426 -0.99658085]\n",
      " ...\n",
      " [ 7.07365456  5.76615578 27.07313489]\n",
      " [ 7.06063467  5.76707759 27.04160034]\n",
      " [ 7.04776397  5.76819069 27.01017128]]\n"
     ]
    }
   ],
   "source": [
    "dt = 0.001  # Timestep\n",
    "\n",
    "# First trajectory:\n",
    "t_train1 = np.arange(0,10,dt)  # Time range to integrate over\n",
    "x0_train1 = [-1,1,-1]  # Initial conditions\n",
    "sol1 = solve_ivp(lorenz, (t_train1[0], t_train1[-1]), x0_train1, t_eval=t_train1)  # Integrate to produce x(t),y(t),z(t)\n",
    "x_train1 = np.transpose(sol1.y)  \n",
    "print(x_train1)\n",
    "\n",
    "# Second trajectory:\n",
    "t_train2 = np.arange(100,110,dt)  # Time range to integrate over\n",
    "x0_train2 = [2,-2,2]  # Initial conditions\n",
    "sol2 = solve_ivp(lorenz, (t_train2[0], t_train2[-1]), x0_train2, t_eval=t_train2) # Integrate to produce x(t),y(t),z(t)\n",
    "x_train2 = np.transpose(sol2.y)  \n",
    "\n",
    "# Add noise to both our trajectories:\n",
    "x_train1 += np.random.normal(scale = 0.05, size=x_train1.shape) \n",
    "x_train2 += np.random.normal(scale = 0.05, size=x_train2.shape) \n",
    "\n",
    "# Combine both trajectory data sets into a list:\n",
    "x_train = [x_train1, x_train2]"
   ]
  },
  {
   "cell_type": "markdown",
   "id": "4e5c3749",
   "metadata": {},
   "source": [
    "### Create our SINDy model:"
   ]
  },
  {
   "cell_type": "code",
   "execution_count": null,
   "id": "ce43fa75",
   "metadata": {},
   "outputs": [],
   "source": []
  }
 ],
 "metadata": {
  "kernelspec": {
   "display_name": "Python 3 (ipykernel)",
   "language": "python",
   "name": "python3"
  },
  "language_info": {
   "codemirror_mode": {
    "name": "ipython",
    "version": 3
   },
   "file_extension": ".py",
   "mimetype": "text/x-python",
   "name": "python",
   "nbconvert_exporter": "python",
   "pygments_lexer": "ipython3",
   "version": "3.8.8"
  }
 },
 "nbformat": 4,
 "nbformat_minor": 5
}
